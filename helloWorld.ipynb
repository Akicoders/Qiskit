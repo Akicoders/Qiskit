{
 "cells": [
  {
   "cell_type": "markdown",
   "metadata": {},
   "source": [
    "## Comenzamos un tipo de programacion diferente que puede cambiar el mundo "
   ]
  },
  {
   "cell_type": "code",
   "execution_count": 1,
   "metadata": {},
   "outputs": [],
   "source": [
    "import qiskit"
   ]
  },
  {
   "cell_type": "code",
   "execution_count": 2,
   "metadata": {},
   "outputs": [
    {
     "data": {
      "text/plain": [
       "'1.3.2'"
      ]
     },
     "execution_count": 2,
     "metadata": {},
     "output_type": "execute_result"
    }
   ],
   "source": [
    "qiskit.__version__"
   ]
  },
  {
   "cell_type": "code",
   "execution_count": null,
   "metadata": {},
   "outputs": [],
   "source": [
    "# Create una cuenta en IBM Quantum Experience y crea un token de acceso. \n",
    "# Luego, instala la biblioteca qiskit-ibm-runtime y configura tu token de acceso.\n",
    "# pip install qiskit-ibm-runtime\n",
    "from qiskit_ibm_runtime import QiskitRuntimeService\n",
    "service = QiskitRuntimeService(channel=\"ibm_quantum\", token=\"tu token\")\n",
    "# Este código guarda tu token de acceso en el servicio Qiskit Runtime Service, en tu instancia.\n",
    "QiskitRuntimeService.save_account(channel=\"ibm_quantum\", token=\"tu token\")"
   ]
  },
  {
   "cell_type": "markdown",
   "metadata": {},
   "source": [
    "### Gracias a IBM Quantum Computing podemos acceder a computadores cuánticos\n",
    "<img src=\"computersQuantum.png\">\n",
    "\n",
    "vamos a hacer un pequeño ejemplo de como usar un computador cuántico para encontrar un elemento en una lista no estructurada\n",
    "\n"
   ]
  },
  {
   "cell_type": "code",
   "execution_count": 6,
   "metadata": {},
   "outputs": [],
   "source": [
    "# Primero llamamos al backend (la computadora donde correra el circuito)\n",
    "backend= service.backend('ibm_brisbane')"
   ]
  },
  {
   "cell_type": "code",
   "execution_count": null,
   "metadata": {},
   "outputs": [
    {
     "data": {
      "text/plain": [
       "127"
      ]
     },
     "execution_count": 8,
     "metadata": {},
     "output_type": "execute_result"
    }
   ],
   "source": [
    "# Numero de qubits disponibles en el backend\n",
    "backend.num_qubits"
   ]
  },
  {
   "cell_type": "markdown",
   "metadata": {},
   "source": [
    "## Comenzamos a trabajar con Qiskit\n",
    "### Paso 1: Mapea el problema de circuitos y operadores"
   ]
  }
 ],
 "metadata": {
  "kernelspec": {
   "display_name": "algoritmsCQ",
   "language": "python",
   "name": "python3"
  },
  "language_info": {
   "codemirror_mode": {
    "name": "ipython",
    "version": 3
   },
   "file_extension": ".py",
   "mimetype": "text/x-python",
   "name": "python",
   "nbconvert_exporter": "python",
   "pygments_lexer": "ipython3",
   "version": "3.12.9"
  }
 },
 "nbformat": 4,
 "nbformat_minor": 2
}
