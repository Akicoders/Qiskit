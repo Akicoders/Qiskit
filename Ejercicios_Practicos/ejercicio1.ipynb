{
 "cells": [
  {
   "cell_type": "markdown",
   "metadata": {},
   "source": [
    "<h1> EJERCICIO 01 </h1>\n",
    "<img src=\"imagenes/ejercicio-01.png\">"
   ]
  },
  {
   "cell_type": "code",
   "execution_count": 1,
   "metadata": {},
   "outputs": [],
   "source": [
    "from qiskit import QuantumCircuit,assemble,transpile\n",
    "from qiskit_ibm_runtime import QiskitRuntimeService,SamplerV2\n",
    "from qiskit_aer import Aer, AerSimulator, QasmSimulator\n",
    "from qiskit.visualization import circuit_drawer, plot_histogram\n",
    "import pylatexenc\n"
   ]
  },
  {
   "cell_type": "code",
   "execution_count": 10,
   "metadata": {},
   "outputs": [
    {
     "data": {
      "image/png": "[encoded data removed]",
      "text/plain": [
       "<Figure size 454.517x284.278 with 1 Axes>"
      ]
     },
     "execution_count": 10,
     "metadata": {},
     "output_type": "execute_result"
    }
   ],
   "source": [
    "ejercicio_01 = QuantumCircuit(2,2)\n",
    "ejercicio_01.x(1)\n",
    "ejercicio_01.h(range(2))\n",
    "ejercicio_01.cx(0,1)\n",
    "ejercicio_01.h(range(2))\n",
    "ejercicio_01.draw(output=\"mpl\")"
   ]
  },
  {
   "cell_type": "code",
   "execution_count": 11,
   "metadata": {},
   "outputs": [
    {
     "data": {
      "text/latex": [
       "$$ |11\\rangle$$"
      ],
      "text/plain": [
       "<IPython.core.display.Latex object>"
      ]
     },
     "execution_count": 11,
     "metadata": {},
     "output_type": "execute_result"
    }
   ],
   "source": [
    "from qiskit.quantum_info import Statevector\n",
    "\n",
    "state = Statevector.from_int(0, 2**2)\n",
    "state = state.evolve(ejercicio_01) \n",
    "state.draw('latex')\n"
   ]
  }
 ],
 "metadata": {
  "kernelspec": {
   "display_name": "algoritmsCQ",
   "language": "python",
   "name": "python3"
  },
  "language_info": {
   "codemirror_mode": {
    "name": "ipython",
    "version": 3
   },
   "file_extension": ".py",
   "mimetype": "text/x-python",
   "name": "python",
   "nbconvert_exporter": "python",
   "pygments_lexer": "ipython3",
   "version": "3.12.9"
  }
 },
 "nbformat": 4,
 "nbformat_minor": 2
}
